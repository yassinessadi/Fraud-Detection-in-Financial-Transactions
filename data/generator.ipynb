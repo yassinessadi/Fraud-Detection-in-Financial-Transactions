{
  "cells": [
    {
      "cell_type": "code",
      "execution_count": 23,
      "metadata": {
        "id": "8Xzun42SGs4b"
      },
      "outputs": [],
      "source": [
        "import random\n",
        "from datetime import datetime, timedelta\n",
        "import pandas as pd\n",
        "import json \n",
        "\n",
        "\n",
        "\n",
        "def random_date(start, end):\n",
        "    return start + timedelta(\n",
        "        seconds=random.randint(0, int((end - start).total_seconds())))\n",
        "\n",
        "def generate_high_frequency_transactions(customer_id, start_date, num_transactions):\n",
        "    transactions = []\n",
        "    for _ in range(num_transactions):\n",
        "        transactions.append({\n",
        "            \"transaction_id\": f\"T{random.randint(10000, 99999)}\",\n",
        "            \"date_time\": random_date(start_date, start_date + timedelta(days=1)).isoformat(),\n",
        "            \"amount\": random.uniform(10, 1000),\n",
        "            \"currency\": random.choice([\"USD\", \"EUR\", \"GBP\"]),\n",
        "            \"merchant_details\": f\"Merchant{random.randint(1, 20)}\",\n",
        "            \"customer_id\": customer_id,\n",
        "            \"transaction_type\": random.choice([\"purchase\", \"withdrawal\"]),\n",
        "            \"location\": f\"City{random.randint(11, 20)}\"  # Different from customer's city\n",
        "        })\n",
        "    return transactions\n",
        "\n",
        "def generate_data(num_transactions, num_customers):\n",
        "    customers = []\n",
        "    transactions = []\n",
        "    external_data = {\n",
        "        \"blacklist_info\": [f\"Merchant{random.randint(21, 30)}\" for _ in range(10)],\n",
        "        \"credit_scores\": {},\n",
        "        \"fraud_reports\": {}\n",
        "    }\n",
        "\n",
        "    for i in range(num_customers):\n",
        "        customer_id = f\"C{i:03}\"\n",
        "        customer_city = f\"City{random.randint(1, 10)}\"\n",
        "        customers.append({\n",
        "            \"customer_id\": customer_id,\n",
        "            \"account_history\": [],\n",
        "            \"demographics\": {\"age\": random.randint(18, 70), \"location\": customer_city},\n",
        "            \"behavioral_patterns\": {\"avg_transaction_value\": random.uniform(50, 500)}\n",
        "        })\n",
        "        external_data[\"credit_scores\"][customer_id] = random.randint(300, 850)\n",
        "        external_data[\"fraud_reports\"][customer_id] = random.randint(0, 5)\n",
        "\n",
        "    for i in range(num_transactions):\n",
        "        customer_id = f\"C{random.randint(0, num_customers-1):03}\"\n",
        "        transaction = {\n",
        "            \"transaction_id\": f\"T{i:05}\",\n",
        "            \"date_time\": random_date(datetime(2020, 1, 1), datetime(2023, 1, 1)).isoformat(),\n",
        "            \"amount\": random.uniform(10, 1000) * (10 if random.random() < 0.4 else 1),  # 5% chance of high amount\n",
        "            \"currency\": random.choice([\"USD\", \"EUR\", \"GBP\"]),\n",
        "            \"merchant_details\": f\"Merchant{random.randint(1, 20)}\",\n",
        "            \"customer_id\": customer_id,\n",
        "            \"transaction_type\": random.choice([\"purchase\", \"withdrawal\"]),\n",
        "            \"location\": f\"City{random.randint(1, 10)}\"\n",
        "        }\n",
        "        transactions.append(transaction)\n",
        "        for customer in customers:\n",
        "            if customer[\"customer_id\"] == customer_id:\n",
        "                customer[\"account_history\"].append(transaction[\"transaction_id\"])\n",
        "                break\n",
        "\n",
        "    for customer in random.sample(customers, num_customers // 40):  # 40% of customers\n",
        "        transactions.extend(generate_high_frequency_transactions(customer[\"customer_id\"], datetime(2022, 1, 1), 10))\n",
        "\n",
        "    return transactions, customers, external_data\n",
        "\n",
        "transactions, customers, external_data = generate_data(1000, 100)\n",
        "\n",
        "# print(external_data)\n",
        "\n",
        "df_transactions = pd.DataFrame(transactions)\n",
        "\n",
        "df_transactions.to_json(path_or_buf=\"./transactions.json\",orient='records')\n",
        "\n",
        "df_customers = pd.DataFrame(customers)\n",
        "\n",
        "df_customers.to_json(path_or_buf=\"./customers.json\",orient='records')\n",
        "\n",
        "# df_external_data = pd.DataFrame(external_data)\n",
        "# print(external_data['blacklist_info'])\n",
        "# df_external_data.to_json(path_or_buf=\"./external_data.json\",orient='table')\n"
      ]
    },
    {
      "cell_type": "code",
      "execution_count": 25,
      "metadata": {},
      "outputs": [
        {
          "data": {
            "text/plain": [
              "'['"
            ]
          },
          "execution_count": 25,
          "metadata": {},
          "output_type": "execute_result"
        }
      ],
      "source": [
        "df_customers.to_json(orient='records')"
      ]
    }
  ],
  "metadata": {
    "colab": {
      "provenance": []
    },
    "kernelspec": {
      "display_name": "Python 3",
      "name": "python3"
    },
    "language_info": {
      "codemirror_mode": {
        "name": "ipython",
        "version": 3
      },
      "file_extension": ".py",
      "mimetype": "text/x-python",
      "name": "python",
      "nbconvert_exporter": "python",
      "pygments_lexer": "ipython3",
      "version": "3.11.6"
    }
  },
  "nbformat": 4,
  "nbformat_minor": 0
}
